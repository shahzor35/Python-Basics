{
 "cells": [
  {
   "cell_type": "code",
   "execution_count": null,
   "id": "4552301b-2e12-4484-bea6-5b25effeea0c",
   "metadata": {},
   "outputs": [],
   "source": [
    "# Topic - Python basics variable"
   ]
  },
  {
   "cell_type": "code",
   "execution_count": 1,
   "id": "b3e210e8-1492-4045-89bc-47276d3e6a51",
   "metadata": {},
   "outputs": [
    {
     "name": "stdout",
     "output_type": "stream",
     "text": [
      "After swapping the value of x, y are as follows\n",
      "x = 15\n",
      "y = 12\n"
     ]
    }
   ],
   "source": [
    "''' 1. Declare two variables, `x` and `y`, and assign them integer values. Swap the\n",
    "values of these variables without using any temporary variable'''\n",
    "# Declaring two variable x, y and assigning them integer values\n",
    "x = 12\n",
    "y = 15\n",
    "# swapping the values of these variables without using a temporary variable\n",
    "x , y = y , x\n",
    "print(\"After swapping the value of x, y are as follows\")\n",
    "print(\"x =\", x)\n",
    "print(\"y =\", y)"
   ]
  },
  {
   "cell_type": "code",
   "execution_count": 2,
   "id": "9b302d5b-eeda-4038-822f-151baa288333",
   "metadata": {},
   "outputs": [
    {
     "name": "stdin",
     "output_type": "stream",
     "text": [
      "Insert a value for length 5\n",
      "Insert a value for width 3\n"
     ]
    },
    {
     "name": "stdout",
     "output_type": "stream",
     "text": [
      "calculated area is:  15.0\n"
     ]
    }
   ],
   "source": [
    "''' 2. Create a program that calculates the area of a rectangle. Take the length and\n",
    "width as inputs from the user and store them in variables. Calculate and\n",
    "display the area.'''\n",
    "# Taking the lenght, width as inputs from the user and storing them in variables\n",
    "length = float(input(\"Insert a value for length\"))\n",
    "width = float(input(\"Insert a value for width\"))\n",
    "# calculating the area of rectangle\n",
    "Area = length * width\n",
    "print(\"calculated area is: \", Area)"
   ]
  },
  {
   "cell_type": "code",
   "execution_count": 3,
   "id": "857957cf-ae9b-478d-adaa-6a9cda9731cd",
   "metadata": {},
   "outputs": [
    {
     "name": "stdin",
     "output_type": "stream",
     "text": [
      "Enter the temperature value in celsius 32\n"
     ]
    },
    {
     "name": "stdout",
     "output_type": "stream",
     "text": [
      "The value of Fahrenheit after converting is : 89.6\n"
     ]
    }
   ],
   "source": [
    "'''3. Write a Python program that converts temperatures from Celsius to\n",
    "Fahrenheit. Take the temperature in Celsius as input, store it in a variable,\n",
    "convert it to Fahrenheit, and display the result.'''\n",
    "# Taking the temperature value as input and storing the the value in celsius variable\n",
    "Celsius = float(input(\"Enter the temperature value in celsius\"))\n",
    "# converting temperatures from Celsius to Fahrenheit\n",
    "Fahrenheit = (Celsius *9/5) + 32\n",
    "# Printing the fahrenheit value\n",
    "print(\"The value of Fahrenheit after converting is :\", Fahrenheit)"
   ]
  },
  {
   "cell_type": "code",
   "execution_count": null,
   "id": "13b720e2-acb9-46da-867d-58681e1e2fb8",
   "metadata": {},
   "outputs": [],
   "source": [
    "# Topic - String Based Questions"
   ]
  },
  {
   "cell_type": "code",
   "execution_count": 4,
   "id": "dd5016f4-06d2-4fcb-9c81-1f11efcfb6f9",
   "metadata": {},
   "outputs": [
    {
     "name": "stdin",
     "output_type": "stream",
     "text": [
      "write a string here to know it's length:  pw skills\n"
     ]
    },
    {
     "name": "stdout",
     "output_type": "stream",
     "text": [
      "The length of string is : 9\n"
     ]
    }
   ],
   "source": [
    "''' 1. Write a Python program that takes a string as input and prints the length of\n",
    "the string.'''\n",
    "# Taking a string as input.\n",
    "string = input(\"write a string here to know it's length: \")\n",
    "# Calculating the length of the string using the len function and storing it into a variable and printing it.\n",
    "string_length = len(string)\n",
    "print(\"The length of string is :\", string_length)"
   ]
  },
  {
   "cell_type": "code",
   "execution_count": 5,
   "id": "91872133-329e-4aac-a682-bff5d6e9cc0c",
   "metadata": {},
   "outputs": [
    {
     "name": "stdin",
     "output_type": "stream",
     "text": [
      "Enter your sentence here to count the number of vowels:  pw skills\n"
     ]
    },
    {
     "name": "stdout",
     "output_type": "stream",
     "text": [
      "The count of vowels is : 1\n"
     ]
    }
   ],
   "source": [
    "'''2. Create a program that takes a sentence from the user and counts the number\n",
    "of vowels (a, e, i, o, u) in the string.'''\n",
    "# Taking a sentence from the user\n",
    "sentence = input(\"Enter your sentence here to count the number of vowels: \")\n",
    "#converting upper case to lower case by using lower function\n",
    "sentence = sentence.lower()\n",
    "# Initializing a variable to count vowels\n",
    "count = 0\n",
    "# looping through a single character from the input string\n",
    "for char in sentence:\n",
    "    if char in \"aeiou\":\n",
    "        count += 1\n",
    "#printing the count value\n",
    "print(\"The count of vowels is :\", count)"
   ]
  },
  {
   "cell_type": "code",
   "execution_count": 7,
   "id": "85c20bf6-72fa-4aa1-941a-e8975f905daf",
   "metadata": {},
   "outputs": [
    {
     "name": "stdin",
     "output_type": "stream",
     "text": [
      "Enter your string here to reverse: pw skills\n"
     ]
    },
    {
     "name": "stdout",
     "output_type": "stream",
     "text": [
      "The reverse order is  slliks wp\n"
     ]
    }
   ],
   "source": [
    "'''3. Given a string, reverse the order of characters using string slicing and print\n",
    "the reversed string.'''\n",
    "# Taking a string as input\n",
    "s = input(\"Enter your string here to reverse:\")\n",
    "# Reversing the input string and printing it\n",
    "Rs = s[-1::-1]\n",
    "print(\"The reverse order is \",Rs)"
   ]
  },
  {
   "cell_type": "code",
   "execution_count": 9,
   "id": "0e0e22d7-eccb-4ffb-b2a5-fcd808eb8fd8",
   "metadata": {},
   "outputs": [
    {
     "name": "stdin",
     "output_type": "stream",
     "text": [
      "Enter your string here to check if palindrome or not : MOM\n"
     ]
    },
    {
     "name": "stdout",
     "output_type": "stream",
     "text": [
      "The input string is a palindrome.\n"
     ]
    }
   ],
   "source": [
    "''' 4. Write a program that takes a string as input and checks if it is a palindrome'''\n",
    "# Taking a string as input\n",
    "s1 = input(\"Enter your string here to check if palindrome or not :\")\n",
    "s2 = s1\n",
    "# Checking if a string is palindrome or not\n",
    "if s2 == s1[-1::-1]:\n",
    "    print(\"The input string is a palindrome.\")\n",
    "else:\n",
    "    print(\"The input string is a not palindrome.\")"
   ]
  },
  {
   "cell_type": "code",
   "execution_count": 11,
   "id": "b037d868-4c90-4edc-ac4c-48dedc010f4e",
   "metadata": {},
   "outputs": [
    {
     "name": "stdin",
     "output_type": "stream",
     "text": [
      "Enter your string here to remove all the spaces from the string: pw skills\n"
     ]
    },
    {
     "name": "stdout",
     "output_type": "stream",
     "text": [
      "modified string is pwskills\n"
     ]
    }
   ],
   "source": [
    "'''5. Create a program that takes a string as input and removes all the spaces from\n",
    "it. Print the modified string without spaces.'''\n",
    "# Taking a string as input\n",
    "s3 = input(\"Enter your string here to remove all the spaces from the string:\")\n",
    "'''Removing all the spaces from the input string using replace function and storing it into a variable\n",
    "and printing it.'''\n",
    "s4 = s3.replace(\" \",\"\")\n",
    "print(\"modified string is\", s4)"
   ]
  }
 ],
 "metadata": {
  "kernelspec": {
   "display_name": "Python 3 (ipykernel)",
   "language": "python",
   "name": "python3"
  },
  "language_info": {
   "codemirror_mode": {
    "name": "ipython",
    "version": 3
   },
   "file_extension": ".py",
   "mimetype": "text/x-python",
   "name": "python",
   "nbconvert_exporter": "python",
   "pygments_lexer": "ipython3",
   "version": "3.10.8"
  }
 },
 "nbformat": 4,
 "nbformat_minor": 5
}
